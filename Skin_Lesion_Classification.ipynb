{
  "nbformat": 4,
  "nbformat_minor": 0,
  "metadata": {
    "colab": {
      "name": "Skin Lesion Classification.ipynb",
      "provenance": [],
      "collapsed_sections": [],
      "authorship_tag": "ABX9TyPnC5d4MfaScYwjjJrNrKz4"
    },
    "kernelspec": {
      "name": "python3",
      "display_name": "Python 3"
    },
    "language_info": {
      "name": "python"
    }
  },
  "cells": [
    {
      "cell_type": "code",
      "execution_count": 1,
      "metadata": {
        "colab": {
          "base_uri": "https://localhost:8080/"
        },
        "id": "gUV2VjmNWiQm",
        "outputId": "0ae6bc1b-b0f7-405d-c9a7-addf96c7e2d1"
      },
      "outputs": [
        {
          "output_type": "stream",
          "name": "stdout",
          "text": [
            "Mounted at /content/gdrive\n",
            "Total Images: 25333\n"
          ]
        }
      ],
      "source": [
        "import pandas as pd\n",
        "from google.colab import drive\n",
        "import tensorflow as tf\n",
        "from pydrive.drive import GoogleDrive\n",
        "import os\n",
        "import shutil\n",
        "drive.mount('/content/gdrive')\n",
        "\n",
        "!unzip gdrive/My\\ Drive/archive.zip > /dev/null\n",
        "print(\"Total Images: {}\".format(len([name for name in os.listdir('ISIC_2019_Training_Input/ISIC_2019_Training_Input')])))"
      ]
    },
    {
      "cell_type": "code",
      "source": [
        "def OrganizeImages():\n",
        "  df_gt = pd.read_csv ('ISIC_2019_Training_GroundTruth.csv')\n",
        "  df_meta = pd.read_csv ('ISIC_2019_Training_Metadata.csv')\n",
        "\n",
        "  df_mel = df_gt.loc[(df_gt['MEL'] == 1)]\n",
        "  df_bcc = df_gt.loc[(df_gt['BCC'] == 1)]\n",
        "  df_bkl = df_gt.loc[(df_gt['BKL'] == 1)]\n",
        "\n",
        "  return df_mel, df_bcc, df_bkl"
      ],
      "metadata": {
        "id": "NLHZyVl8Ww29"
      },
      "execution_count": 2,
      "outputs": []
    },
    {
      "cell_type": "code",
      "source": [
        "def ExtractImages(df_mel, df_bcc, df_bkl):\n",
        "  os.mkdir('MEL')\n",
        "  os.mkdir('MEL/MEL')\n",
        "  for index, row in df_mel.iterrows():\n",
        "    image = \"ISIC_2019_Training_Input/ISIC_2019_Training_Input/{}.jpg\".format(row['image'])\n",
        "    shutil.move(image, \"MEL/MEL\")\n",
        "\n",
        "  os.mkdir('BCC')\n",
        "  os.mkdir('BCC/BCC')\n",
        "  for index, row in df_bcc.iterrows():\n",
        "    image = \"ISIC_2019_Training_Input/ISIC_2019_Training_Input/{}.jpg\".format(row['image'])\n",
        "    shutil.move(image, \"BCC/BCC\")\n",
        "\n",
        "  os.mkdir('BKL')\n",
        "  os.mkdir('BKL/BKL')\n",
        "  for index, row in df_bkl.iterrows():\n",
        "    image = \"ISIC_2019_Training_Input/ISIC_2019_Training_Input/{}.jpg\".format(row['image'])\n",
        "    shutil.move(image, \"BKL/BKL\")\n",
        "\n",
        "  print(\"MEL: {}\".format(len([name for name in os.listdir('MEL/MEL')])))\n",
        "  print(\"BCC: {}\".format(len([name for name in os.listdir('BCC/BCC')])))\n",
        "  print(\"BKL: {}\".format(len([name for name in os.listdir('BKL/BKL')])))"
      ],
      "metadata": {
        "id": "9rGheAgIuxPA"
      },
      "execution_count": 7,
      "outputs": []
    },
    {
      "cell_type": "code",
      "source": [
        "def SplitData(dir, lesion_type, training, validation, test):\n",
        "  length = len([name for name in os.listdir(dir)])\n",
        "  train_size = length * training\n",
        "  validation_size = length * validation\n",
        "  test_size = length * test\n",
        "\n",
        "  try:\n",
        "    os.mkdir(lesion_type + '/train')\n",
        "    os.mkdir(lesion_type + '/validation')\n",
        "    os.mkdir(lesion_type + '/test')\n",
        "  except OSError as e:\n",
        "    print(\"Error: {}.\\nContinuing...\".format(e.strerror))\n",
        "\n",
        "  end_index = 0\n",
        "  names = [name for name in os.listdir(dir)]\n",
        "  for i in range(int(train_size)):\n",
        "    image = dir + \"/{}\".format(names[i])\n",
        "    shutil.move(image, lesion_type + '/train')\n",
        "    end_index = i\n",
        "  \n",
        "  for i in range(end_index + 1, int(end_index + validation_size)):\n",
        "    image = dir + \"/{}\".format(names[i])\n",
        "    shutil.move(image, lesion_type + '/validation')\n",
        "    end_index = i\n",
        "\n",
        "  for i in range(end_index + 1, int(end_index + test_size)):\n",
        "    image = dir + \"/{}\".format(names[i])\n",
        "    shutil.move(image, lesion_type + '/test')\n",
        "\n",
        "  print_str = lesion_type + \":\\n\\Train Size: {}\\n\\tValidation Size: {}\\n\\tTest Size: {}\\n\"\n",
        "  print(print_str.format(len([name for name in os.listdir(lesion_type + '/train')]), len([name for name in os.listdir(lesion_type + '/validation')]), len([name for name in os.listdir(lesion_type + '/test')])))"
      ],
      "metadata": {
        "id": "8Fzk5DLG8YgP"
      },
      "execution_count": 4,
      "outputs": []
    },
    {
      "cell_type": "code",
      "source": [
        "training = 0.7\n",
        "validation = 0.15\n",
        "test = 0.15\n",
        "\n",
        "df_mel, df_bcc, df_bkl = OrganizeImages()\n",
        "ExtractImages(df_mel, df_bcc, df_bkl)\n",
        "SplitData('\\nMEL/MEL', 'MEL', training, validation, test)\n",
        "SplitData('BCC/BCC', 'BCC', training, validation, test)\n",
        "SplitData('BKL/BKL', 'BKL', training, validation, test)"
      ],
      "metadata": {
        "colab": {
          "base_uri": "https://localhost:8080/"
        },
        "id": "sZCFH_YrHhRf",
        "outputId": "2c36285c-2cf6-4867-9af1-18496addeb58"
      },
      "execution_count": 5,
      "outputs": [
        {
          "output_type": "stream",
          "name": "stdout",
          "text": [
            "MEL: 1\n",
            "BCC: 1\n",
            "BKL: 1\n",
            "MEL:\n",
            "\tTest Size: 3165\n",
            "\tValidation Size: 677\n",
            "\tTest Size: 677\n",
            "\n",
            "BCC:\n",
            "\tTest Size: 2326\n",
            "\tValidation Size: 497\n",
            "\tTest Size: 497\n",
            "\n",
            "BKL:\n",
            "\tTest Size: 1836\n",
            "\tValidation Size: 392\n",
            "\tTest Size: 392\n",
            "\n"
          ]
        }
      ]
    }
  ]
}