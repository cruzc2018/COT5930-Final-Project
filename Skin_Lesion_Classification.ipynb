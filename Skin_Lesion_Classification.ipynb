{
  "nbformat": 4,
  "nbformat_minor": 0,
  "metadata": {
    "colab": {
      "name": "Skin Lesion Classification.ipynb",
      "provenance": [],
      "collapsed_sections": [],
      "authorship_tag": "ABX9TyO87SyIJRFlzh6QiPf3D6Qi"
    },
    "kernelspec": {
      "name": "python3",
      "display_name": "Python 3"
    },
    "language_info": {
      "name": "python"
    },
    "accelerator": "GPU"
  },
  "cells": [
    {
      "cell_type": "code",
      "execution_count": 1,
      "metadata": {
        "colab": {
          "base_uri": "https://localhost:8080/"
        },
        "id": "gUV2VjmNWiQm",
        "outputId": "e2f257c7-a888-42b7-fb6e-0a48c13c0e9f"
      },
      "outputs": [
        {
          "output_type": "stream",
          "name": "stdout",
          "text": [
            "Mounted at /content/gdrive\n",
            "Total Images: 25333\n"
          ]
        }
      ],
      "source": [
        "from tensorflow.keras.optimizers import SGD\n",
        "import pandas as pd\n",
        "from google.colab import drive\n",
        "from pydrive.drive import GoogleDrive\n",
        "import os\n",
        "import shutil\n",
        "import random\n",
        "from matplotlib import pyplot\n",
        "from collections import Counter\n",
        "from keras.preprocessing.image import ImageDataGenerator\n",
        "from keras.layers import Dense, Flatten\n",
        "from keras.models import  Model\n",
        "from math import ceil\n",
        "import numpy as np\n",
        "from sklearn.metrics import ConfusionMatrixDisplay, accuracy_score\n",
        "from sklearn.metrics import roc_curve, auc, confusion_matrix\n",
        "from keras.callbacks import EarlyStopping, LearningRateScheduler, Callback\n",
        "from keras.applications.resnet import ResNet50, preprocess_input\n",
        "\n",
        "#mount drive and unzip folder containing images\n",
        "drive.mount('/content/gdrive')\n",
        "!unzip gdrive/My\\ Drive/archive.zip > /dev/null\n",
        "print(\"Total Images: {}\".format(len([name for name in os.listdir('ISIC_2019_Training_Input/ISIC_2019_Training_Input')])))"
      ]
    },
    {
      "cell_type": "code",
      "source": [
        "#create dataframe for each class melanoma, basal cell carcinoma, seborrheic keratosis\n",
        "def OrganizeImages():\n",
        "  df_gt = pd.read_csv ('ISIC_2019_Training_GroundTruth.csv')\n",
        "  df_meta = pd.read_csv ('ISIC_2019_Training_Metadata.csv')\n",
        "\n",
        "  df_mel = df_gt.loc[(df_gt['MEL'] == 1)]\n",
        "  df_bcc = df_gt.loc[(df_gt['BCC'] == 1)]\n",
        "  df_bkl = df_gt.loc[(df_gt['BKL'] == 1)]\n",
        "\n",
        "  return df_mel, df_bcc, df_bkl"
      ],
      "metadata": {
        "id": "NLHZyVl8Ww29"
      },
      "execution_count": 2,
      "outputs": []
    },
    {
      "cell_type": "code",
      "source": [
        "#only extract images coresponding to melanoma, basal cell carcinoma, seborrheic keratosis and move them into corresponding folders\n",
        "def ExtractImages(df, name):\n",
        "  dir = name + \"/\" + name\n",
        "  os.mkdir(name)\n",
        "  os.mkdir(dir)\n",
        "\n",
        "  for index, row in df.iterrows():\n",
        "    image = \"ISIC_2019_Training_Input/ISIC_2019_Training_Input/{}.jpg\".format(row['image'])\n",
        "    shutil.move(image, dir)\n",
        "\n",
        "  print(\"Total \" + name + \" images: {}\".format(len([name for name in os.listdir(dir)])))"
      ],
      "metadata": {
        "id": "9rGheAgIuxPA"
      },
      "execution_count": 3,
      "outputs": []
    },
    {
      "cell_type": "code",
      "source": [
        "#splitting data into train, validation, testing and move them into corresponding folders\n",
        "def SplitData(name, training, validation, test):\n",
        "  dir = name + \"/\" + name\n",
        "  length = len([name for name in os.listdir(dir)])\n",
        "  train_size = round(length * training)\n",
        "  validation_size = round(length * validation)\n",
        "  test_size = round(length * test)\n",
        "\n",
        "  try:\n",
        "    os.mkdir('train/' + name)\n",
        "    os.mkdir('validation/' + name)\n",
        "    os.mkdir('test/' + name)\n",
        "  except OSError as e:\n",
        "    print(\"Error: {}.\\nContinuing...\".format(e.strerror))\n",
        "\n",
        "  end_index = 0\n",
        "  names = [name for name in os.listdir(dir)]\n",
        "  for i in range(train_size):\n",
        "    image = dir + \"/{}\".format(names[i])\n",
        "    shutil.move(image, 'train/' + name)\n",
        "    end_index = i\n",
        "  \n",
        "  for i in range(end_index + 1, end_index + validation_size):\n",
        "    image = dir + \"/{}\".format(names[i])\n",
        "    shutil.move(image, 'validation/' + name)\n",
        "    end_index = i\n",
        "\n",
        "  for i in range(end_index + 1, end_index + test_size):\n",
        "    image = dir + \"/{}\".format(names[i])\n",
        "    shutil.move(image, 'test/' + name)\n",
        "\n",
        "  print_str = name + \":\\n\\tTrain Size: {}\\n\\tValidation Size: {}\\n\\tTest Size: {}\\n\"\n",
        "  print(print_str.format(len([name for name in os.listdir('train/' + name)]), len([name for name in os.listdir('validation/' + name)]), len([name for name in os.listdir('test/' + name)])))"
      ],
      "metadata": {
        "id": "8Fzk5DLG8YgP"
      },
      "execution_count": 4,
      "outputs": []
    },
    {
      "cell_type": "code",
      "source": [
        "#balance classes\n",
        "def ClassBalance(train):\n",
        "  counter = Counter(train.classes)\n",
        "  max_val = float(max(counter.values()))\n",
        "  class_weights = {class_id : max_val/num_images for class_id, num_images in counter.items()}"
      ],
      "metadata": {
        "id": "RlJppzKnNVdB"
      },
      "execution_count": 5,
      "outputs": []
    },
    {
      "cell_type": "code",
      "source": [
        "train_arg_params = ImageDataGenerator(\n",
        "    featurewise_center = True,\n",
        "    samplewise_center = False,\n",
        "    featurewise_std_normalization = False,\n",
        "    samplewise_std_normalization = False,\n",
        "    zca_whitening = False,\n",
        "    zca_epsilon = 1e-06,\n",
        "    rotation_range = 90,\n",
        "    width_shift_range = [-30, 30],\n",
        "    height_shift_range = [-30, 30],\n",
        "    brightness_range = None,\n",
        "    shear_range = 0.0,\n",
        "    zoom_range = 0.0,\n",
        "    channel_shift_range = 0.0,\n",
        "    fill_mode = 'nearest',\n",
        "    cval = 0.0,\n",
        "    horizontal_flip = True,\n",
        "    vertical_flip = True,\n",
        "    rescale = None,\n",
        "    preprocessing_function = preprocess_input,\n",
        "    data_format = None,\n",
        "    validation_split = 0.0,\n",
        "    dtype = None\n",
        ")\n",
        "\n",
        "test_arg_params = ImageDataGenerator(preprocessing_function=preprocess_input)"
      ],
      "metadata": {
        "id": "us8MGeKhVQhJ"
      },
      "execution_count": 45,
      "outputs": []
    },
    {
      "cell_type": "code",
      "source": [
        "def ShowExampleArg(name, count):\n",
        "  #if folder exits (already example images), delete and create new set\n",
        "  try:\n",
        "    os.mkdir(name + \"/ExampleArg/\")\n",
        "    os.mkdir(name + \"/ExampleArg/\" + name)\n",
        "  except OSError as e:\n",
        "    print(\"Deleting dir {}\".format(name + \"/ExampleArg\"))\n",
        "    shutil.rmtree(name + \"/ExampleArg/\")\n",
        "    print(\"Creating dir {}\".format(name + \"/ExampleArg/\" + name))\n",
        "    os.mkdir(name + \"/ExampleArg/\")\n",
        "    os.mkdir(name + \"/ExampleArg/\" + name)\n",
        "\n",
        "  dir = \"train/\" + name\n",
        "  length = len([name for name in os.listdir(dir)])\n",
        "  names = [name for name in os.listdir(dir)]\n",
        "\n",
        "  #find a random integer that won't cause out of index error\n",
        "  rand_int = random.randint(0, length)\n",
        "  while (rand_int + count > length):\n",
        "    rand_int = random.randint(0, length)\n",
        "\n",
        "  #moves example images to different folder\n",
        "  for i in range(rand_int, rand_int + count):\n",
        "    image = dir + \"/{}\".format(names[i])\n",
        "    target = name + \"/ExampleArg/\" + name + \"/\" + str(names[i])\n",
        "    shutil.copyfile(image, target)\n",
        "\n",
        "  #start argumentation\n",
        "  examples = train_arg_params.flow_from_directory(name + '/ExampleArg', target_size = inputSize[0:2])\n",
        "\n",
        "  #display\n",
        "  sub_plots = list(range(1, (count * 4) + 1))\n",
        "  fig = pyplot.figure(figsize=(50, 50))\n",
        "\n",
        "  for img in range(0, count * 4):\n",
        "    x,y = examples.next()\n",
        "    image = x[0]\n",
        "    sub = fig.add_subplot(8,8, sub_plots[img])\n",
        "    sub.axis('off')\n",
        "    sub.imshow(image)\n",
        "  pyplot.show()"
      ],
      "metadata": {
        "id": "jO6kS50MYpmc"
      },
      "execution_count": 7,
      "outputs": []
    },
    {
      "cell_type": "code",
      "source": [
        "def CreateDataForModel():\n",
        "  train = train_arg_params.flow_from_directory(\"train\",\n",
        "                                batch_size=6,\n",
        "                                target_size = inputSize[0:2],\n",
        "                                class_mode=\"categorical\")\n",
        "\n",
        "  validation = test_arg_params.flow_from_directory(\"validation\",\n",
        "                                  batch_size=6,\n",
        "                                  target_size = inputSize[0:2],\n",
        "                                  class_mode=\"categorical\")\n",
        "\n",
        "  test = test_arg_params.flow_from_directory(\"test\",\n",
        "                                  target_size = inputSize[0:2],\n",
        "                                  class_mode=\"categorical\")\n",
        "  \n",
        "  return train, validation, test"
      ],
      "metadata": {
        "id": "YAE0GuXE1Rd2"
      },
      "execution_count": 8,
      "outputs": []
    },
    {
      "cell_type": "code",
      "source": [
        "def BuildModel(train, lr, mom, factor):\n",
        "  resnet = ResNet50(include_top = False, pooling = 'avg', weights = 'imagenet', input_shape = (224,224,3))\n",
        "  x = resnet.output\n",
        "\n",
        "  #change final layer to 3\n",
        "  fc8 = Dense(train.num_classes, activation='softmax', name = 'fc8')(x)\n",
        "  model = Model(inputs=resnet.input, outputs=fc8)\n",
        "\n",
        "  optimizer = SGD(lr = lr, momentum = mom, nesterov = False)\n",
        "  model.compile(optimizer = optimizer, loss = 'categorical_crossentropy', metrics = ['accuracy'])\n",
        "\n",
        "  #print(model.summary())\n",
        "  return model"
      ],
      "metadata": {
        "id": "aVj3Z5DW48g3"
      },
      "execution_count": 9,
      "outputs": []
    },
    {
      "cell_type": "code",
      "source": [
        "def VariableLR(epoch, lr):\n",
        "  factor =  0.1\n",
        "  step = 5\n",
        "  if epoch % step == 0 and epoch:\n",
        "      return lr * factor\n",
        "  return lr"
      ],
      "metadata": {
        "id": "R7g210_SSVtb"
      },
      "execution_count": 10,
      "outputs": []
    },
    {
      "cell_type": "code",
      "source": [
        "#plot loss v accruacy\n",
        "def PlotLossAcc(history):\n",
        "  fig = pyplot.figure(figsize=(50, 50))\n",
        "  sub = fig.add_subplot(8, 8, 1)\n",
        "  sub.plot(history.history[\"loss\"], label = \"Train loss\")\n",
        "  sub.plot(history.history[\"val_loss\"], label = \"Val Loss\")\n",
        "  sub.title.set_text(\"Train Loss v Val Loss\")\n",
        "  sub.legend()\n",
        "\n",
        "  sub2 = fig.add_subplot(8, 8, 2)\n",
        "  sub2.plot(history.history[\"accuracy\"], label = \"Train Acc.\")\n",
        "  sub2.plot(history.history[\"val_accuracy\"], label = \"Val Acc.\")\n",
        "  sub2.title.set_text(\"Train Acc. v Val Acc.\")\n",
        "  sub2.legend()"
      ],
      "metadata": {
        "id": "zSwN0XyQEpDf"
      },
      "execution_count": 29,
      "outputs": []
    },
    {
      "cell_type": "code",
      "source": [
        "def TestModel(test, model):\n",
        "  x_test = []\n",
        "  y_test = []\n",
        "  for i in range(ceil(test.n/test.batch_size)):\n",
        "    x_iter, y_iter = test.next()\n",
        "    x_test.extend(x_iter)\n",
        "    y_test.extend(y_iter)\n",
        "\n",
        "  x_test = np.array(x_test) \n",
        "  y_test = np.array(y_test)\n",
        "\n",
        "  y_pred = model.predict(x_test)\n",
        "  vector = np.argmax(y_test, 1)\n",
        "\n",
        "  return x_test, y_test, y_pred, vector"
      ],
      "metadata": {
        "id": "Z5mjaYyUGYfr"
      },
      "execution_count": 12,
      "outputs": []
    },
    {
      "cell_type": "code",
      "source": [
        "def ShowExampleTestPred(test, x_test, y_pred, vector, count):\n",
        "  sub_plots = list(range(1, (count) + 1))\n",
        "  fig = pyplot.figure(figsize=(50, 50))\n",
        "  labels = list(test.class_indices.keys())\n",
        "\n",
        "  for i in range(0, count):\n",
        "    random_image = np.random.randint(test.n)\n",
        "    image = x_test[random_image]\n",
        "    sub = fig.add_subplot(8, 8, sub_plots[i])\n",
        "    sub.title.set_text('Ground truth = '+ labels[int(vector[random_image])] + ';  Prediction = ' + labels[np.argmax(y_pred[random_image])])\n",
        "    sub.axis('off')\n",
        "    sub.imshow(image)\n",
        "\n",
        "  pyplot.show()"
      ],
      "metadata": {
        "id": "yde66YL02U7Z"
      },
      "execution_count": 13,
      "outputs": []
    },
    {
      "cell_type": "code",
      "source": [
        "#organize and extract melanoma, basal cell carcinoma, seborrheic keratosis into seperate folders \n",
        "df_mel, df_bcc, df_bkl = OrganizeImages()\n",
        "ExtractImages(df_mel, 'MEL')\n",
        "ExtractImages(df_bcc, 'BCC')\n",
        "ExtractImages(df_bkl, 'BKL')\n",
        "\n",
        "#split data into training, validatin, testing\n",
        "training = 0.7\n",
        "validation = 0.15\n",
        "test = 0.15\n",
        "inputSize= [224, 224, 3]\n",
        "\n",
        "os.mkdir('train')\n",
        "os.mkdir('validation')\n",
        "os.mkdir('test')\n",
        "SplitData('MEL', training, validation, test)\n",
        "SplitData('BCC', training, validation, test)\n",
        "SplitData('BKL', training, validation, test)"
      ],
      "metadata": {
        "id": "sZCFH_YrHhRf"
      },
      "execution_count": null,
      "outputs": []
    },
    {
      "cell_type": "code",
      "source": [
        "ShowExampleArg('MEL', 1)"
      ],
      "metadata": {
        "id": "AdzDG_valLED"
      },
      "execution_count": null,
      "outputs": []
    },
    {
      "cell_type": "code",
      "source": [
        "#create frames for the training, validation, and testing for each\n",
        "train, validation, test = CreateDataForModel()"
      ],
      "metadata": {
        "id": "XmlyCDXEy_6a"
      },
      "execution_count": null,
      "outputs": []
    },
    {
      "cell_type": "code",
      "source": [
        "lr = 0.0001\n",
        "mom = 0.9\n",
        "factor = 10\n",
        "\n",
        "weights = ClassBalance(train)\n",
        "model = BuildModel(train, lr, mom, factor)"
      ],
      "metadata": {
        "id": "F-6l77mc_JXS"
      },
      "execution_count": null,
      "outputs": []
    },
    {
      "cell_type": "code",
      "source": [
        "#train model\n",
        "variable_lr = LearningRateScheduler(VariableLR, verbose=1)\n",
        "early_stop = EarlyStopping(monitor='val_loss', patience=5)\n",
        "history = model.fit(train, steps_per_epoch = ceil(train.n / 6), epochs = 50, shuffle = True,\n",
        "                                    validation_data=validation, validation_steps = ceil(validation.n / 6),\n",
        "                                    callbacks = [early_stop, variable_lr], verbose = 1, class_weight = weights)"
      ],
      "metadata": {
        "id": "JHCfaFBtDlJc"
      },
      "execution_count": null,
      "outputs": []
    },
    {
      "cell_type": "code",
      "source": [
        "PlotLossAcc(history)"
      ],
      "metadata": {
        "id": "JzuiCnlPdcos"
      },
      "execution_count": null,
      "outputs": []
    },
    {
      "cell_type": "code",
      "source": [
        "x_test, y_test, y_pred, vector = TestModel(test, model)\n",
        "\n",
        "test_acc = accuracy_score(np.argmax(y_test, axis = 1), np.argmax(y_pred, axis = 1))\n",
        "print('Accuracy: {}\\n'.format(round(test_acc, 3)))\n",
        "\n",
        "c_matrix = confusion_matrix(np.argmax(y_test, axis = 1), np.argmax(y_pred, axis = 1))\n",
        "disp = ConfusionMatrixDisplay(confusion_matrix = c_matrix, display_labels = train.class_indices.keys())\n",
        "disp.plot(cmap ='YlGnBu')\n",
        "disp.figure_.set_size_inches(5, 5)\n",
        "pyplot.show()"
      ],
      "metadata": {
        "id": "YhO2YYosxHgh"
      },
      "execution_count": null,
      "outputs": []
    },
    {
      "cell_type": "code",
      "source": [
        "ShowExampleTestPred(test, x_test, y_pred, vector, 4)"
      ],
      "metadata": {
        "id": "J2HC5w3q31Tg"
      },
      "execution_count": null,
      "outputs": []
    }
  ]
}