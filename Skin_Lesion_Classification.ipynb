{
  "nbformat": 4,
  "nbformat_minor": 0,
  "metadata": {
    "colab": {
      "name": "Skin Lesion Classification.ipynb",
      "provenance": [],
      "collapsed_sections": [],
      "authorship_tag": "ABX9TyOls3SK7Qs79xrWlJ++VT1U"
    },
    "kernelspec": {
      "name": "python3",
      "display_name": "Python 3"
    },
    "language_info": {
      "name": "python"
    }
  },
  "cells": [
    {
      "cell_type": "code",
      "execution_count": 1,
      "metadata": {
        "colab": {
          "base_uri": "https://localhost:8080/"
        },
        "id": "gUV2VjmNWiQm",
        "outputId": "74dcc828-6311-4300-af5d-8af7e300398f"
      },
      "outputs": [
        {
          "output_type": "stream",
          "name": "stdout",
          "text": [
            "Mounted at /content/gdrive\n",
            "Total Images: 25333\n"
          ]
        }
      ],
      "source": [
        "import pandas as pd\n",
        "from google.colab import drive\n",
        "from pydrive.drive import GoogleDrive\n",
        "import os\n",
        "import shutil\n",
        "import random\n",
        "from matplotlib import pyplot\n",
        "from collections import Counter\n",
        "from keras.preprocessing.image import ImageDataGenerator\n",
        "from keras.layers import Dense, Flatten\n",
        "from keras.models import  Model\n",
        "from keras.applications.resnet import ResNet50, preprocess_input\n",
        "\n",
        "#mount drive and unzip folder containing images\n",
        "drive.mount('/content/gdrive')\n",
        "!unzip gdrive/My\\ Drive/archive.zip > /dev/null\n",
        "print(\"Total Images: {}\".format(len([name for name in os.listdir('ISIC_2019_Training_Input/ISIC_2019_Training_Input')])))"
      ]
    },
    {
      "cell_type": "code",
      "source": [
        "#create dataframe for each class melanoma, basal cell carcinoma, seborrheic keratosis\n",
        "def OrganizeImages():\n",
        "  df_gt = pd.read_csv ('ISIC_2019_Training_GroundTruth.csv')\n",
        "  df_meta = pd.read_csv ('ISIC_2019_Training_Metadata.csv')\n",
        "\n",
        "  df_mel = df_gt.loc[(df_gt['MEL'] == 1)]\n",
        "  df_bcc = df_gt.loc[(df_gt['BCC'] == 1)]\n",
        "  df_bkl = df_gt.loc[(df_gt['BKL'] == 1)]\n",
        "\n",
        "  return df_mel, df_bcc, df_bkl"
      ],
      "metadata": {
        "id": "NLHZyVl8Ww29"
      },
      "execution_count": 2,
      "outputs": []
    },
    {
      "cell_type": "code",
      "source": [
        "#only extract images coresponding to melanoma, basal cell carcinoma, seborrheic keratosis and move them into corresponding folders\n",
        "def ExtractImages(df, name):\n",
        "  dir = name + \"/\" + name\n",
        "  os.mkdir(name)\n",
        "  os.mkdir(dir)\n",
        "\n",
        "  for index, row in df.iterrows():\n",
        "    image = \"ISIC_2019_Training_Input/ISIC_2019_Training_Input/{}.jpg\".format(row['image'])\n",
        "    shutil.move(image, dir)\n",
        "\n",
        "  print(\"Total \" + name + \" images: {}\".format(len([name for name in os.listdir(dir)])))"
      ],
      "metadata": {
        "id": "9rGheAgIuxPA"
      },
      "execution_count": 3,
      "outputs": []
    },
    {
      "cell_type": "code",
      "source": [
        "#splitting data into train, validation, testing and move them into corresponding folders\n",
        "def SplitData(name, training, validation, test):\n",
        "  dir = name + \"/\" + name\n",
        "  length = len([name for name in os.listdir(dir)])\n",
        "  train_size = round(length * training)\n",
        "  validation_size = round(length * validation)\n",
        "  test_size = round(length * test)\n",
        "\n",
        "  try:\n",
        "    os.mkdir(name + '/train')\n",
        "    os.mkdir(name + '/validation')\n",
        "    os.mkdir(name + '/test')\n",
        "    os.mkdir(name + '/train/' + name)\n",
        "    os.mkdir(name + '/validation/' + name)\n",
        "    os.mkdir(name + '/test/' + name)\n",
        "  except OSError as e:\n",
        "    print(\"Error: {}.\\nContinuing...\".format(e.strerror))\n",
        "\n",
        "  end_index = 0\n",
        "  names = [name for name in os.listdir(dir)]\n",
        "  for i in range(train_size):\n",
        "    image = dir + \"/{}\".format(names[i])\n",
        "    shutil.move(image, name + '/train/' + name)\n",
        "    end_index = i\n",
        "  \n",
        "  for i in range(end_index + 1, end_index + validation_size):\n",
        "    image = dir + \"/{}\".format(names[i])\n",
        "    shutil.move(image, name + '/validation/' + name)\n",
        "    end_index = i\n",
        "\n",
        "  for i in range(end_index + 1, end_index + test_size):\n",
        "    image = dir + \"/{}\".format(names[i])\n",
        "    shutil.move(image, name + '/test/' + name)\n",
        "\n",
        "  print_str = name + \":\\n\\tTrain Size: {}\\n\\tValidation Size: {}\\n\\tTest Size: {}\\n\"\n",
        "  print(print_str.format(len([name for name in os.listdir(name + '/train/' + name)]), len([name for name in os.listdir(name + '/validation/' + name)]), len([name for name in os.listdir(name + '/test/' + name)])))"
      ],
      "metadata": {
        "id": "8Fzk5DLG8YgP"
      },
      "execution_count": 4,
      "outputs": []
    },
    {
      "cell_type": "code",
      "source": [
        "#balance classes\n",
        "def ClassBalance(train):\n",
        "  counter = Counter(train.classes)\n",
        "  max_val = float(max(counter.values()))\n",
        "  class_weights = {class_id : max_val/num_images for class_id, num_images in counter.items()}"
      ],
      "metadata": {
        "id": "RlJppzKnNVdB"
      },
      "execution_count": 5,
      "outputs": []
    },
    {
      "cell_type": "code",
      "source": [
        "train_arg_params = ImageDataGenerator(\n",
        "    featurewise_center = False,\n",
        "    samplewise_center = False,\n",
        "    featurewise_std_normalization = False,\n",
        "    samplewise_std_normalization = False,\n",
        "    zca_whitening = False,\n",
        "    zca_epsilon = 1e-06,\n",
        "    rotation_range = 90,\n",
        "    width_shift_range = [-30, 30],\n",
        "    height_shift_range = [-30, 30],\n",
        "    brightness_range = None,\n",
        "    shear_range = 0.0,\n",
        "    zoom_range = 0.0,\n",
        "    channel_shift_range = 0.0,\n",
        "    fill_mode = 'nearest',\n",
        "    cval = 0.0,\n",
        "    horizontal_flip = True,\n",
        "    vertical_flip = True,\n",
        "    rescale = 1./255,\n",
        "    preprocessing_function = preprocess_input,\n",
        "    data_format = None,\n",
        "    validation_split = 0.0,\n",
        "    dtype = None\n",
        ")\n",
        "\n",
        "test_arg_params = ImageDataGenerator(preprocessing_function=preprocess_input)"
      ],
      "metadata": {
        "id": "us8MGeKhVQhJ"
      },
      "execution_count": 6,
      "outputs": []
    },
    {
      "cell_type": "code",
      "source": [
        "def ShowExampleArg(name, count):\n",
        "  #if folder exits (already example images), delete and create new set\n",
        "  try:\n",
        "    os.mkdir(name + \"/ExampleArg/\")\n",
        "    os.mkdir(name + \"/ExampleArg/\" + name)\n",
        "  except OSError as e:\n",
        "    print(\"Deleting dir {}\".format(name + \"/ExampleArg\"))\n",
        "    shutil.rmtree(name + \"/ExampleArg/\")\n",
        "    print(\"Creating dir {}\".format(name + \"/ExampleArg/\" + name))\n",
        "    os.mkdir(name + \"/ExampleArg/\")\n",
        "    os.mkdir(name + \"/ExampleArg/\" + name)\n",
        "\n",
        "  dir = name + \"/train/\" + name\n",
        "  length = len([name for name in os.listdir(dir)])\n",
        "  names = [name for name in os.listdir(dir)]\n",
        "\n",
        "  #find a random integer that won't cause out of index error\n",
        "  rand_int = random.randint(0, length)\n",
        "  while (rand_int + count > length):\n",
        "    rand_int = random.randint(0, length)\n",
        "\n",
        "  #moves example images to different folder\n",
        "  for i in range(rand_int, rand_int + count):\n",
        "    image = dir + \"/{}\".format(names[i])\n",
        "    target = name + \"/ExampleArg/\" + name + \"/\" + str(names[i])\n",
        "    shutil.copyfile(image, target)\n",
        "\n",
        "  #start argumentation\n",
        "  examples = train_arg_params.flow_from_directory('MEL/ExampleArg' ,target_size = inputSize[0:2])\n",
        "\n",
        "  #display\n",
        "  sub_plots = list(range(1, (count * 8) + 1))\n",
        "  fig = pyplot.figure(figsize=(50, 50))\n",
        "\n",
        "  for img in range(0, count * 8):\n",
        "    x,y = examples.next()\n",
        "    image = x[0]\n",
        "    sub = fig.add_subplot(8,8, sub_plots[img])\n",
        "    sub.imshow(image)\n",
        "  pyplot.show()"
      ],
      "metadata": {
        "id": "jO6kS50MYpmc"
      },
      "execution_count": 25,
      "outputs": []
    },
    {
      "cell_type": "code",
      "source": [
        "#organize and extract melanoma, basal cell carcinoma, seborrheic keratosis into seperate folders \n",
        "df_mel, df_bcc, df_bkl = OrganizeImages()\n",
        "ExtractImages(df_mel, 'MEL')\n",
        "ExtractImages(df_bcc, 'BCC')\n",
        "ExtractImages(df_bkl, 'BKL')\n",
        "\n",
        "#split data into training, validatin, testing\n",
        "training = 0.7\n",
        "validation = 0.15\n",
        "test = 0.15\n",
        "inputSize= [224, 224, 3]\n",
        "\n",
        "SplitData('MEL', training, validation, test)\n",
        "SplitData('BCC', training, validation, test)\n",
        "SplitData('BKL', training, validation, test)"
      ],
      "metadata": {
        "id": "sZCFH_YrHhRf"
      },
      "execution_count": null,
      "outputs": []
    },
    {
      "cell_type": "code",
      "source": [
        "ShowExampleArg('MEL', 1)"
      ],
      "metadata": {
        "id": "AdzDG_valLED"
      },
      "execution_count": null,
      "outputs": []
    }
  ]
}