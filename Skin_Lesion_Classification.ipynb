{
  "nbformat": 4,
  "nbformat_minor": 0,
  "metadata": {
    "colab": {
      "name": "Skin Lesion Classification.ipynb",
      "provenance": [],
      "collapsed_sections": [],
      "authorship_tag": "ABX9TyOv6rkpu5PapKuL9X5Ws6iM"
    },
    "kernelspec": {
      "name": "python3",
      "display_name": "Python 3"
    },
    "language_info": {
      "name": "python"
    }
  },
  "cells": [
    {
      "cell_type": "code",
      "execution_count": null,
      "metadata": {
        "colab": {
          "base_uri": "https://localhost:8080/"
        },
        "id": "gUV2VjmNWiQm",
        "outputId": "0f2ab09b-43dd-4e90-eb0b-c8b15a8a064c"
      },
      "outputs": [
        {
          "output_type": "stream",
          "name": "stdout",
          "text": [
            "Mounted at /content/gdrive\n"
          ]
        }
      ],
      "source": [
        "import pandas as pd\n",
        "from google.colab import drive\n",
        "from pydrive.drive import GoogleDrive\n",
        "import os\n",
        "import shutil\n",
        "from collections import Counter\n",
        "from keras.preprocessing.image import ImageDataGenerator\n",
        "from keras.layers import Dense, Flatten\n",
        "from keras.models import  Model\n",
        "\n",
        "#mount drive and unzip folder containing images\n",
        "drive.mount('/content/gdrive')\n",
        "!unzip gdrive/My\\ Drive/archive.zip > /dev/null\n",
        "print(\"Total Images: {}\".format(len([name for name in os.listdir('ISIC_2019_Training_Input/ISIC_2019_Training_Input')])))"
      ]
    },
    {
      "cell_type": "code",
      "source": [
        "#create dataframe for each class melanoma, basal cell carcinoma, seborrheic keratosis\n",
        "def OrganizeImages():\n",
        "  df_gt = pd.read_csv ('ISIC_2019_Training_GroundTruth.csv')\n",
        "  df_meta = pd.read_csv ('ISIC_2019_Training_Metadata.csv')\n",
        "\n",
        "  df_mel = df_gt.loc[(df_gt['MEL'] == 1)]\n",
        "  df_bcc = df_gt.loc[(df_gt['BCC'] == 1)]\n",
        "  df_bkl = df_gt.loc[(df_gt['BKL'] == 1)]\n",
        "\n",
        "  return df_mel, df_bcc, df_bkl"
      ],
      "metadata": {
        "id": "NLHZyVl8Ww29"
      },
      "execution_count": null,
      "outputs": []
    },
    {
      "cell_type": "code",
      "source": [
        "#only extract images coresponding to melanoma, basal cell carcinoma, seborrheic keratosis and move them into corresponding folders\n",
        "def ExtractImages(df, name):\n",
        "  dir = name + \"/\" + name\n",
        "  os.mkdir(name)\n",
        "  os.mkdir(dir)\n",
        "\n",
        "  for index, row in df.iterrows():\n",
        "    image = \"ISIC_2019_Training_Input/ISIC_2019_Training_Input/{}.jpg\".format(row['image'])\n",
        "    shutil.move(image, dir)\n",
        "\n",
        "  print(name + \": {}\".format(len([name for name in os.listdir(dir)])))"
      ],
      "metadata": {
        "id": "9rGheAgIuxPA"
      },
      "execution_count": null,
      "outputs": []
    },
    {
      "cell_type": "code",
      "source": [
        "#splitting data into train, validation, testing and move them into corresponding folders\n",
        "def SplitData(name, training, validation, test):\n",
        "  dir = name + \"/\" + name\n",
        "  length = len([name for name in os.listdir(dir)])\n",
        "  train_size = round(length * training)\n",
        "  validation_size = round(length * validation)\n",
        "  test_size = round(length * test)\n",
        "\n",
        "  try:\n",
        "    os.mkdir(name + '/train')\n",
        "    os.mkdir(name + '/validation')\n",
        "    os.mkdir(name + '/test')\n",
        "  except OSError as e:\n",
        "    print(\"Error: {}.\\nContinuing...\".format(e.strerror))\n",
        "\n",
        "  end_index = 0\n",
        "  names = [name for name in os.listdir(dir)]\n",
        "  for i in range(train_size):\n",
        "    image = dir + \"/{}\".format(names[i])\n",
        "    shutil.move(image, name + '/train')\n",
        "    end_index = i\n",
        "  \n",
        "  for i in range(end_index + 1, end_index + validation_size):\n",
        "    image = dir + \"/{}\".format(names[i])\n",
        "    shutil.move(image, name + '/validation')\n",
        "    end_index = i\n",
        "\n",
        "  for i in range(end_index + 1, end_index + test_size):\n",
        "    image = dir + \"/{}\".format(names[i])\n",
        "    shutil.move(image, name + '/test')\n",
        "\n",
        "  print_str = name + \":\\n\\tTrain Size: {}\\n\\tValidation Size: {}\\n\\tTest Size: {}\\n\"\n",
        "  print(print_str.format(len([name for name in os.listdir(name + '/train')]), len([name for name in os.listdir(name + '/validation')]), len([name for name in os.listdir(name + '/test')])))"
      ],
      "metadata": {
        "id": "8Fzk5DLG8YgP"
      },
      "execution_count": null,
      "outputs": []
    },
    {
      "cell_type": "code",
      "source": [
        "#balance classes\n",
        "def ClassBalance(train):\n",
        "  counter = Counter(train.classes)\n",
        "  max_val = float(max(counter.values()))\n",
        "  class_weights = {class_id : max_val/num_images for class_id, num_images in counter.items()}"
      ],
      "metadata": {
        "id": "RlJppzKnNVdB"
      },
      "execution_count": null,
      "outputs": []
    },
    {
      "cell_type": "code",
      "source": [
        "#organize and extract melanoma, basal cell carcinoma, seborrheic keratosis into seperate folders \n",
        "df_mel, df_bcc, df_bkl = OrganizeImages()\n",
        "ExtractImages(df_mel, 'MEL')\n",
        "ExtractImages(df_bcc, 'BCC')\n",
        "ExtractImages(df_bkl, 'BKL')\n",
        "\n",
        "#split data into training, validatin, testing\n",
        "training = 0.7\n",
        "validation = 0.15\n",
        "test = 0.15\n",
        "\n",
        "SplitData('MEL', training, validation, test)\n",
        "SplitData('BCC', training, validation, test)\n",
        "SplitData('BKL', training, validation, test)"
      ],
      "metadata": {
        "id": "sZCFH_YrHhRf"
      },
      "execution_count": null,
      "outputs": []
    },
    {
      "cell_type": "code",
      "source": [
        "SplitData('MEL', training, validation, test)"
      ],
      "metadata": {
        "id": "EMLbiNggP8yJ"
      },
      "execution_count": null,
      "outputs": []
    },
    {
      "cell_type": "code",
      "source": [
        "#generate model\n",
        "resNet = ResNet50(include_top=False,pooling = 'avg', weights='imagenet', input_shape=(224,224,3))\n",
        "x = resNet.output\n",
        "fc2 = Dense(train.num_classes, activation='softmax', name = 'fc2')(x)\n",
        "model = Model(inputs=resNet.input, outputs=fc2)\n",
        "print(model.summary())"
      ],
      "metadata": {
        "id": "j1x4AAOEMA6D"
      },
      "execution_count": null,
      "outputs": []
    }
  ]
}