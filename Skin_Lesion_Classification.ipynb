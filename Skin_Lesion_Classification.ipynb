{
  "nbformat": 4,
  "nbformat_minor": 0,
  "metadata": {
    "colab": {
      "name": "Skin Lesion Classification.ipynb",
      "provenance": [],
      "authorship_tag": "ABX9TyOpVOwzcVU7nGSkdfyyJNJO"
    },
    "kernelspec": {
      "name": "python3",
      "display_name": "Python 3"
    },
    "language_info": {
      "name": "python"
    }
  },
  "cells": [
    {
      "cell_type": "code",
      "execution_count": 1,
      "metadata": {
        "colab": {
          "base_uri": "https://localhost:8080/"
        },
        "id": "gUV2VjmNWiQm",
        "outputId": "ef12b260-dd83-4949-b4de-977eb29f0136"
      },
      "outputs": [
        {
          "output_type": "stream",
          "name": "stdout",
          "text": [
            "Mounted at /content/gdrive\n",
            "Total Images: 25333\n"
          ]
        }
      ],
      "source": [
        "import pandas as pd\n",
        "from google.colab import drive\n",
        "import tensorflow as tf\n",
        "from pydrive.drive import GoogleDrive\n",
        "import os\n",
        "import shutil\n",
        "drive.mount('/content/gdrive')\n",
        "\n",
        "!unzip gdrive/My\\ Drive/archive.zip > /dev/null\n",
        "print(\"Total Images: {}\".format(len([name for name in os.listdir('ISIC_2019_Training_Input/ISIC_2019_Training_Input')])))"
      ]
    },
    {
      "cell_type": "code",
      "source": [
        "df_gt = pd.read_csv ('ISIC_2019_Training_GroundTruth.csv')\n",
        "df_meta = pd.read_csv ('ISIC_2019_Training_Metadata.csv')\n",
        "\n",
        "df_mel = df_gt.loc[(df_gt['MEL'] == 1)]\n",
        "df_bcc = df_gt.loc[(df_gt['BCC'] == 1)]\n",
        "df_BKL = df_gt.loc[(df_gt['BKL'] == 1)]"
      ],
      "metadata": {
        "id": "NLHZyVl8Ww29"
      },
      "execution_count": null,
      "outputs": []
    },
    {
      "cell_type": "code",
      "source": [
        "os.mkdir('MEL')\n",
        "for index, row in df_mel.iterrows():\n",
        "  image = \"ISIC_2019_Training_Input/ISIC_2019_Training_Input/{}.jpg\".format(row['image'])\n",
        "  shutil.move(image, \"MEL\")\n",
        "\n",
        "os.mkdir('BCC')\n",
        "for index, row in df_bcc.iterrows():\n",
        "  image = \"ISIC_2019_Training_Input/ISIC_2019_Training_Input/{}.jpg\".format(row['image'])\n",
        "  shutil.move(image, \"BCC\")\n",
        "\n",
        "os.mkdir('BKL')\n",
        "for index, row in df_BKL.iterrows():\n",
        "  image = \"ISIC_2019_Training_Input/ISIC_2019_Training_Input/{}.jpg\".format(row['image'])\n",
        "  shutil.move(image, \"BKL\")"
      ],
      "metadata": {
        "id": "9rGheAgIuxPA"
      },
      "execution_count": null,
      "outputs": []
    },
    {
      "cell_type": "code",
      "source": [
        "print(\"MEL: {}\".format(len([name for name in os.listdir('MEL')])))\n",
        "print(\"BCC: {}\".format(len([name for name in os.listdir('BCC')])))\n",
        "print(\"BKL: {}\".format(len([name for name in os.listdir('BKL')])))"
      ],
      "metadata": {
        "colab": {
          "base_uri": "https://localhost:8080/"
        },
        "id": "xbAxbctG2RS-",
        "outputId": "0a0f122e-8013-477c-9855-652bb3e82934"
      },
      "execution_count": null,
      "outputs": [
        {
          "output_type": "stream",
          "name": "stdout",
          "text": [
            "MEL: 4522\n",
            "BCC: 3323\n",
            "BKL: 2624\n"
          ]
        }
      ]
    },
    {
      "cell_type": "code",
      "source": [
        "!zip -r MEL.zip MEL > /dev/null\n",
        "!zip -r BCC.zip BCC > /dev/null\n",
        "!zip -r BKL.zip BKL > /dev/null"
      ],
      "metadata": {
        "id": "a0RW29-l3yUv"
      },
      "execution_count": null,
      "outputs": []
    }
  ]
}